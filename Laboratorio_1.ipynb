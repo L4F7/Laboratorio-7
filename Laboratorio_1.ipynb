{
  "nbformat": 4,
  "nbformat_minor": 0,
  "metadata": {
    "colab": {
      "provenance": [],
      "authorship_tag": "ABX9TyNl/LPkcMLxI+3++JY2g9wh",
      "include_colab_link": true
    },
    "kernelspec": {
      "name": "python3",
      "display_name": "Python 3"
    },
    "language_info": {
      "name": "python"
    }
  },
  "cells": [
    {
      "cell_type": "markdown",
      "metadata": {
        "id": "view-in-github",
        "colab_type": "text"
      },
      "source": [
        "<a href=\"https://colab.research.google.com/github/L4F7/Laboratorio-7/blob/main/Laboratorio_1.ipynb\" target=\"_parent\"><img src=\"https://colab.research.google.com/assets/colab-badge.svg\" alt=\"Open In Colab\"/></a>"
      ]
    },
    {
      "cell_type": "code",
      "execution_count": null,
      "metadata": {
        "id": "4e1pQyEJZmi3"
      },
      "outputs": [],
      "source": [
        "import pandas as pd\n",
        "import matplotlib.pyplot as plt\n",
        "\n",
        "df = pd.read_csv('/content/Dataset.csv')\n",
        "data  = pd.DataFrame(df)\n",
        "#print(data)"
      ]
    },
    {
      "cell_type": "code",
      "source": [
        "dataFiltered = data.loc[(data[''] == 'Intentional homicide rates per 100,000')]\n",
        "\n",
        "sortedData = dataFiltered.sort_values(by = ['Value'], ascending = False)\n",
        "\n",
        "sortedDataFiltered = sortedData[['Country', 'Value']].head(5) # .head(n) muestra un numero 'n' de elementos\n",
        "\n",
        "print(sortedDataFiltered)"
      ],
      "metadata": {
        "id": "HbRxXNV5ZwEs"
      },
      "execution_count": null,
      "outputs": []
    }
  ]
}