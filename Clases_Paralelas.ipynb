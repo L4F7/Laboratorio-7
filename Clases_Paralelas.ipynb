{
  "nbformat": 4,
  "nbformat_minor": 0,
  "metadata": {
    "colab": {
      "provenance": [],
      "authorship_tag": "ABX9TyOBArs+snIfYVT8pG8Mqlgp",
      "include_colab_link": true
    },
    "kernelspec": {
      "name": "python3",
      "display_name": "Python 3"
    },
    "language_info": {
      "name": "python"
    }
  },
  "cells": [
    {
      "cell_type": "markdown",
      "metadata": {
        "id": "view-in-github",
        "colab_type": "text"
      },
      "source": [
        "<a href=\"https://colab.research.google.com/github/L4F7/Laboratorio-7/blob/main/Clases_Paralelas.ipynb\" target=\"_parent\"><img src=\"https://colab.research.google.com/assets/colab-badge.svg\" alt=\"Open In Colab\"/></a>"
      ]
    },
    {
      "cell_type": "markdown",
      "source": [
        "## Ejercicios en clase"
      ],
      "metadata": {
        "id": "jF5OAp5MYoOF"
      }
    },
    {
      "cell_type": "code",
      "execution_count": null,
      "metadata": {
        "id": "TSHEjYB8EJJu"
      },
      "outputs": [],
      "source": [
        "import pandas as pd\n",
        "import matplotlib.pyplot as plt\n",
        "\n",
        "df = pd.read_csv('/content/CSVInvestigation.csv')\n",
        "data = pd.DataFrame(df)\n",
        "print(data)\n",
        "\n",
        "dataFiltered2018 = data.loc[(data['Year']== 2018)]\n",
        "print(dataFiltered2018)"
      ]
    },
    {
      "cell_type": "code",
      "source": [
        "# 5 paises con mayor indice de criminalidad\n",
        "\n",
        "dataFiltered = data.loc[(data['Series'] == 'Intentional homicide rates per 100,000')]\n",
        "\n",
        "sortedData = dataFiltered.sort_values(by = ['Value'], ascending = False)\n",
        "\n",
        "sortedDataFiltered = sortedData[['Country', 'Value']].head(5) # .head(n) muestra un numero 'n' de elementos\n",
        "\n",
        "print(sortedDataFiltered)"
      ],
      "metadata": {
        "id": "_ihMuSVhHBjo"
      },
      "execution_count": null,
      "outputs": []
    },
    {
      "cell_type": "code",
      "source": [
        "# 5 paises con menor indice de criminalidad\n",
        "\n",
        "dataFiltered = data.loc[(data['Series'] == 'Intentional homicide rates per 100,000')]\n",
        "\n",
        "sortedData = dataFiltered.sort_values(by = ['Value'], ascending = True)\n",
        "\n",
        "sortedDataFiltered = sortedData[['Country', 'Value']].head(5) # .head(n) muestra un numero 'n' de elementos\n",
        "\n",
        "print(sortedDataFiltered)"
      ],
      "metadata": {
        "id": "X4m8jGMQICA3"
      },
      "execution_count": null,
      "outputs": []
    },
    {
      "cell_type": "code",
      "source": [
        "# El crimen más repetido por pais para el año 2018\n",
        "\n",
        "print(dataFiltered2018['Series'].value_counts())"
      ],
      "metadata": {
        "id": "JhORLZ00J8sH"
      },
      "execution_count": null,
      "outputs": []
    },
    {
      "cell_type": "code",
      "source": [
        "dataFilteredCR = data.loc[\n",
        "    (data['Country'] == 'Costa Rica') &\n",
        "    (data['Year'] == 2005) &\n",
        "    (data['Series'] == 'Theft at the national level, rate per 100,000 population')\n",
        "  ]\n",
        "\n",
        "print(dataFilteredCR)"
      ],
      "metadata": {
        "id": "bNNa1BgRKk1X"
      },
      "execution_count": null,
      "outputs": []
    },
    {
      "cell_type": "code",
      "source": [
        "dataFilteredCRSorted = dataFilteredCR.sort_values(by = ['Value'], ascending = False)[['Country', 'Series', 'Value']]\n",
        "print(dataFilteredCRSorted)"
      ],
      "metadata": {
        "id": "C78rMcvLM4fl"
      },
      "execution_count": null,
      "outputs": []
    },
    {
      "cell_type": "code",
      "source": [
        "# Comparativa entre CR, Nicaragua y Panamá pr medio de la tasa\n",
        "\n",
        "registro = df.loc[\n",
        "    (df['Country'] == 'Costa Rica') |\n",
        "    (df['Country'] == 'Nicaragua') |\n",
        "    (df['Country'] == 'Panama')\n",
        "  ]\n",
        "\n",
        "print(registro)"
      ],
      "metadata": {
        "id": "M92aoWGkNVXF"
      },
      "execution_count": null,
      "outputs": []
    },
    {
      "cell_type": "code",
      "source": [
        "registro = data['Year']\n",
        "annio = registro.mode()\n",
        "print(annio)"
      ],
      "metadata": {
        "id": "cTGW_MyFPJmO"
      },
      "execution_count": null,
      "outputs": []
    },
    {
      "cell_type": "code",
      "source": [
        "# Genero más afectado en crímenes en promedio en el año 2018"
      ],
      "metadata": {
        "id": "pJCOrNPSPUBb"
      },
      "execution_count": null,
      "outputs": []
    },
    {
      "cell_type": "code",
      "source": [
        "# ¿Cuál es el género qu se vió más impactado en la cantidad de crímenes?\n",
        "\n",
        "print('¿Cuál es el género qu se vió más impactado en la cantidad de crímenes?')\n",
        "dataFileredByGender = dataFiltered2018.loc[(\n",
        "    (dataFiltered2018['Series'] == 'Percentage of male and female intentional homicide victims, Male') |\n",
        "    (dataFiltered2018['Series'] == 'Percentage of male and female intentional homicide victims, Female')\n",
        ")].groupby('Series')['Value']\n",
        "\n",
        "print(dataFileredByGender.mean())"
      ],
      "metadata": {
        "id": "FXGWf3IlPUU7"
      },
      "execution_count": null,
      "outputs": []
    },
    {
      "cell_type": "markdown",
      "source": [
        "## Ejercicios con dataset del proyecto\n",
        "\n"
      ],
      "metadata": {
        "id": "2h3xcF8gYdBE"
      }
    },
    {
      "cell_type": "code",
      "source": [
        "import pandas as pd\n",
        "import matplotlib.pyplot as plt\n",
        "\n",
        "df = pd.read_csv('/content/Dataset.csv')\n",
        "data  = pd.DataFrame(df)\n",
        "print(data)"
      ],
      "metadata": {
        "id": "QrL9gtnjYmMm"
      },
      "execution_count": null,
      "outputs": []
    },
    {
      "cell_type": "code",
      "source": [
        "dataFiltered = data.loc[(data['Series'] == 'Intentional homicide rates per 100,000')]\n",
        "\n",
        "sortedData = dataFiltered.sort_values(by = ['Value'], ascending = False)\n",
        "\n",
        "sortedDataFiltered = sortedData[['Country', 'Value']].head(5) # .head(n) muestra un numero 'n' de elementos\n",
        "\n",
        "print(sortedDataFiltered)"
      ],
      "metadata": {
        "colab": {
          "base_uri": "https://localhost:8080/"
        },
        "id": "O1EeGAWpZWTX",
        "outputId": "89abae3e-404f-45d1-d721-ee49b41e646a"
      },
      "execution_count": null,
      "outputs": [
        {
          "output_type": "stream",
          "name": "stdout",
          "text": [
            "                    Country  Value\n",
            "1099            El Salvador  105.2\n",
            "1448               Honduras   75.0\n",
            "2813  Saint Kitts and Nevis   68.8\n",
            "1091            El Salvador   64.5\n",
            "1085            El Salvador   64.1\n"
          ]
        }
      ]
    }
  ]
}