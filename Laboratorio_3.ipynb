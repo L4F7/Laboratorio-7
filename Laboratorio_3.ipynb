{
  "nbformat": 4,
  "nbformat_minor": 0,
  "metadata": {
    "colab": {
      "provenance": [],
      "toc_visible": true,
      "authorship_tag": "ABX9TyNvJdvAnN7FKve36VPLKoig",
      "include_colab_link": true
    },
    "kernelspec": {
      "name": "python3",
      "display_name": "Python 3"
    },
    "language_info": {
      "name": "python"
    }
  },
  "cells": [
    {
      "cell_type": "markdown",
      "metadata": {
        "id": "view-in-github",
        "colab_type": "text"
      },
      "source": [
        "<a href=\"https://colab.research.google.com/github/L4F7/Laboratorio-7/blob/main/Laboratorio_3.ipynb\" target=\"_parent\"><img src=\"https://colab.research.google.com/assets/colab-badge.svg\" alt=\"Open In Colab\"/></a>"
      ]
    },
    {
      "cell_type": "markdown",
      "source": [
        "# Código"
      ],
      "metadata": {
        "id": "9Mzt-A8U9U_4"
      }
    },
    {
      "cell_type": "code",
      "execution_count": null,
      "metadata": {
        "id": "V7GeIaw-lPew"
      },
      "outputs": [],
      "source": [
        "from collections import defaultdict\n",
        "import numpy as np\n",
        "import threading\n",
        "import random\n",
        "import time"
      ]
    },
    {
      "cell_type": "code",
      "source": [
        "# Variable global para guardar cada uno de los tiempos de ejecución\n",
        "total_time_vec = []\n",
        "vectoresIniciales = []\n",
        "#vectoresIniciales1 = []\n"
      ],
      "metadata": {
        "id": "qI5y8MMx5hBy"
      },
      "execution_count": null,
      "outputs": []
    },
    {
      "cell_type": "code",
      "source": [
        "def ordenar_subvector (subvector, hilo):\n",
        "    global total_time_vec\n",
        "    global vectoresIniciales\n",
        "    global vectoresIniciales1\n",
        "    vectoresIniciales.extend(subvector)\n",
        "    #vectoresIniciales1.append(subvector)\n",
        "    tiempo_inicio = time.time()\n",
        "    subvector.sort()\n",
        "    tiempo_fin = time.time()\n",
        "    tiempo_ejecucion = (tiempo_fin - tiempo_inicio) * 1000000\n",
        "\n",
        "    total_time_vec.append(tiempo_ejecucion)\n",
        "\n",
        "    # print(f\"Hilo {hilo}: Subvector ordenado (Tiempo: {tiempo_ejecucion} microsegundos)\")"
      ],
      "metadata": {
        "id": "helZHPVRlTkq"
      },
      "execution_count": null,
      "outputs": []
    },
    {
      "cell_type": "code",
      "source": [
        "def dividir_vector(vector, num_hilos):\n",
        "    longitud_subvector = len(vector) // num_hilos\n",
        "    subvectores = [vector[i:i+longitud_subvector] for i in range(0, len(vector), longitud_subvector)]\n",
        "    return subvectores"
      ],
      "metadata": {
        "id": "Lo3GQB8ZlT_a"
      },
      "execution_count": null,
      "outputs": []
    },
    {
      "cell_type": "code",
      "source": [
        "def unir_vectores(subvectores):\n",
        "    vector_ordenado = [num  for subvector in subvectores for num in subvector]\n",
        "    return vector_ordenado"
      ],
      "metadata": {
        "id": "8PrUpo9ElUHp"
      },
      "execution_count": null,
      "outputs": []
    },
    {
      "cell_type": "code",
      "source": [
        "def ordenar_vector(vector, num_hilos):\n",
        "    subvectores = dividir_vector(vector, num_hilos)\n",
        "    threads = []\n",
        "    for i, subvector in enumerate(subvectores):\n",
        "        thread = threading.Thread(target=ordenar_subvector, args=(subvector, i))\n",
        "        thread.start()\n",
        "        threads.append(thread)\n",
        "    for thread in threads:\n",
        "        thread.join()\n",
        "    vector_ordenado = unir_vectores (subvectores)\n",
        "    vector_ordenado.sort()\n",
        "    print(f\"Vector ordenado final: {vector_ordenado}\")"
      ],
      "metadata": {
        "id": "7odO4atflUPK"
      },
      "execution_count": null,
      "outputs": []
    },
    {
      "cell_type": "code",
      "source": [
        "# Generar un vector grande de números aleatorios\n",
        "vector_grande = [random.randint(1, 10) for _ in range(25)]"
      ],
      "metadata": {
        "id": "kL0Vz_7dlUWa"
      },
      "execution_count": null,
      "outputs": []
    },
    {
      "cell_type": "code",
      "source": [
        "# Obtner la cantidad de hilos desde la entrada del usuario\n",
        "num_hilos = int(input(\"Ingrese la cantidad de hilos: \"))"
      ],
      "metadata": {
        "id": "pQzDfscimfQH",
        "colab": {
          "base_uri": "https://localhost:8080/"
        },
        "outputId": "fff6b284-56e4-4721-c50e-a4def095235a"
      },
      "execution_count": null,
      "outputs": [
        {
          "name": "stdout",
          "output_type": "stream",
          "text": [
            "Ingrese la cantidad de hilos: 2\n"
          ]
        }
      ]
    },
    {
      "cell_type": "code",
      "source": [
        "ordenar_vector(vector = vector_grande, num_hilos = num_hilos)"
      ],
      "metadata": {
        "id": "ts74rygBzUMu",
        "colab": {
          "base_uri": "https://localhost:8080/"
        },
        "outputId": "bc9cd11b-5af8-40dc-ffb6-b5bcc1acf7f6"
      },
      "execution_count": null,
      "outputs": [
        {
          "output_type": "stream",
          "name": "stdout",
          "text": [
            "Vector ordenado final: [1, 1, 1, 2, 2, 3, 3, 3, 3, 3, 3, 4, 4, 6, 6, 7, 8, 8, 9, 9, 9, 9, 10, 10, 10]\n"
          ]
        }
      ]
    },
    {
      "cell_type": "code",
      "source": [
        "def compareVectors (vector1, vector2):\n",
        "\n",
        "  if len(vector1) != len(vector2):\n",
        "    return False\n",
        "\n",
        "  vectoresInicialesHash = defaultdict(int)\n",
        "  vectoresFinalesHash = defaultdict(int)\n",
        "\n",
        "\n",
        "  # Iterate through the array\n",
        "  for i in range(len(vector1)):\n",
        "      e1 = vector1[i]\n",
        "      vectoresInicialesHash[e1] += 1\n",
        "\n",
        "      e2 = vector2[i]\n",
        "      vectoresFinalesHash[e2] += 1\n",
        "\n",
        "  # Print the counts\n",
        "  # for element, count in vectoresInicialesHash.items():\n",
        "  #     print(f\"{element} occurs {count} times\")\n",
        "\n",
        "  # Print the counts\n",
        "  # for element, count in vectoresFinalesHash.items():\n",
        "  #     print(f\"{element} occurs {count} times\")\n",
        "\n",
        "  if(vectoresInicialesHash != vectoresFinalesHash):\n",
        "    return False\n",
        "\n",
        "  return True\n",
        "\n"
      ],
      "metadata": {
        "id": "BvR72Ulv-050"
      },
      "execution_count": null,
      "outputs": []
    },
    {
      "cell_type": "code",
      "source": [
        "print(\"Tiempos: \", total_time_vec)\n",
        "print(\"El tiempo total es: \", sum(total_time_vec), \"microsegundos\")\n",
        "\n",
        "print(\"Los vectores son iguales?\", compareVectors(vectoresIniciales, vector_grande))\n",
        "\n",
        "total_time_vec = []\n",
        "vectoresIniciales = []\n",
        "vectoresIniciales1 = []"
      ],
      "metadata": {
        "colab": {
          "base_uri": "https://localhost:8080/"
        },
        "id": "gHUDVfcl599i",
        "outputId": "81b5c40f-6122-4980-977d-ef36412a00ed"
      },
      "execution_count": null,
      "outputs": [
        {
          "output_type": "stream",
          "name": "stdout",
          "text": [
            "Tiempos:  [2.86102294921875, 2.1457672119140625, 0.7152557373046875]\n",
            "El tiempo total es:  5.7220458984375 microsegundos\n",
            "Los vectores son iguales? False\n"
          ]
        }
      ]
    },
    {
      "cell_type": "markdown",
      "source": [
        "# Comentarios"
      ],
      "metadata": {
        "id": "pnVihhRJ9dtI"
      }
    },
    {
      "cell_type": "markdown",
      "source": [
        "El código está ordenado sus subvectores, pero no está ordenado el vector final, por lo que es necesario ordenar el vector final para obtener el resultado deseado. Para solucionar este problema se puede hacer un sort del vector final.\n",
        "\n",
        "Tiempos de ejecución de los hilos de ordenamiento en un vector de 100 elementos:\n",
        "\n",
        "*     1 hilos: 14.06 microsegundos\n",
        "*     2 hilos: 12.87 microsegundos\n",
        "*     3 hilos: 13.58 microsegundos\n",
        "*     4 hilos: 13.11 microsegundos\n",
        "*     5 hilos: 14.78 microsegundos\n",
        "*    10 hilos: 15.97 microsegundos\n",
        "*    15 hilos: 19.55 microsegundos\n",
        "*    20 hilos: 22.88 microsegundos\n",
        "*    50 hilos: 38.38 microsegundos\n",
        "*   100 hilos: 48.16 microsegundos\n",
        "\n",
        "Tomando los tiempos aproximados de ejecución podemos notar que para este ejemplo en particular, la mejor cantidad de hilos serian 2, pero en los casos donde se usaron menos de 10 hilos todos comparten tiempos similares. De igual manera, hay ciertas variables a conciderar, ya que los tiempos de ejecución tienden a variar aunque se utilice la misma cantidad de hilos.\n",
        "\n",
        "\n"
      ],
      "metadata": {
        "id": "iEy0lEaL2_Ec"
      }
    },
    {
      "cell_type": "markdown",
      "source": [
        "# Comparacion de entradas y salidas"
      ],
      "metadata": {
        "id": "emO3COIGoChA"
      }
    }
  ]
}