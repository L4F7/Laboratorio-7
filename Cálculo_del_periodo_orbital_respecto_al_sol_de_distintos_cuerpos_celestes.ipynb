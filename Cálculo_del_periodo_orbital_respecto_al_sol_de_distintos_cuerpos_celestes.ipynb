{
  "nbformat": 4,
  "nbformat_minor": 0,
  "metadata": {
    "colab": {
      "provenance": [],
      "include_colab_link": true
    },
    "kernelspec": {
      "name": "python3",
      "display_name": "Python 3"
    },
    "language_info": {
      "name": "python"
    }
  },
  "cells": [
    {
      "cell_type": "markdown",
      "metadata": {
        "id": "view-in-github",
        "colab_type": "text"
      },
      "source": [
        "<a href=\"https://colab.research.google.com/github/L4F7/Laboratorio-7/blob/main/C%C3%A1lculo_del_periodo_orbital_respecto_al_sol_de_distintos_cuerpos_celestes.ipynb\" target=\"_parent\"><img src=\"https://colab.research.google.com/assets/colab-badge.svg\" alt=\"Open In Colab\"/></a>"
      ]
    },
    {
      "cell_type": "code",
      "source": [
        "# Problema: Cálculo del periodo orbital respecto al sol de distintos cuerpos celestes\n",
        "\n",
        "# Estudiantes (Grupo 7):\n",
        "#  - Andres Gamboa Mena\n",
        "#  - Victor Villarreal Guerrero\n",
        "#  - Luis Fuentes Fuentes\n",
        "#  - Andres Mendez Solano\n",
        "\n",
        "import math\n",
        "\n",
        "# Constantes\n",
        "G = 6.67430e-11  # Constante de gravitación universal\n",
        "M_SOL = 1.989e30  # Masa del Sol en kg\n",
        "\n",
        "# Función para calcular el periodo orbital\n",
        "def calcular_periodo_orbital(m, r):\n",
        "    T_cuadrado = (4 * (math.pi)**2 * r**3) / (G * M_SOL)\n",
        "    return math.sqrt(T_cuadrado)\n",
        "\n",
        "# Masa de la Tierra: 5.972e24\n",
        "# Distancia en kilómetros de la Tierra: 149597870.7\n",
        "\n",
        "masa = float(input(\"Digite la masa del cuerpo celeste: \"))\n",
        "\n",
        "radio = float(input(\"Digite la distancia promedio en kilómetros del cuerpo celeste al Sol: \")) * 1000\n",
        "\n",
        "# Calcular el periodo orbital\n",
        "periodo_orbital = calcular_periodo_orbital(masa, radio)\n",
        "\n",
        "# Convertir el período orbital de segundos a años\n",
        "periodo_orbital_anios = periodo_orbital / (60 * 60 * 24)\n",
        "\n",
        "print(\"El período orbital del cuerpo celeste es de\",periodo_orbital_anios, \"días terrestres\")\n"
      ],
      "metadata": {
        "id": "-0GDUkA0fscG"
      },
      "execution_count": null,
      "outputs": []
    }
  ]
}